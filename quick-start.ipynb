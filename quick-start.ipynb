{
 "cells": [
  {
   "cell_type": "code",
   "execution_count": 9,
   "metadata": {},
   "outputs": [],
   "source": [
    "import javalang\n",
    "import json\n",
    "import os\n",
    "from pprint import pprint as pp"
   ]
  },
  {
   "cell_type": "code",
   "execution_count": 4,
   "metadata": {},
   "outputs": [],
   "source": [
    "filename = 'codet5-small-epoch-29-whole-assertion-translation-original-dataset-raw.txt'"
   ]
  },
  {
   "cell_type": "code",
   "execution_count": 5,
   "metadata": {},
   "outputs": [],
   "source": [
    "with open(filename, 'r', encoding='utf-8') as f:\n",
    "    lines = f.readlines()\n",
    "\n",
    "data = []\n",
    "for line in lines:\n",
    "    data.append(json.loads(line))"
   ]
  },
  {
   "cell_type": "code",
   "execution_count": 16,
   "metadata": {},
   "outputs": [],
   "source": [
    "def exact_match(exp1, exp2):\n",
    "    tokens1 = [x.value for x in javalang.tokenizer.tokenize(exp1)]\n",
    "    tokens2 = [x.value for x in javalang.tokenizer.tokenize(exp2)]\n",
    "    return tokens1==tokens2"
   ]
  },
  {
   "cell_type": "code",
   "execution_count": 19,
   "metadata": {},
   "outputs": [
    {
     "name": "stdout",
     "output_type": "stream",
     "text": [
      "{'assertion': 'org . junit . Assert . assertThat ( shapes . size ( ) , org . '\n",
      "              'hamcrest . CoreMatchers . is ( 2 ) )\\n',\n",
      " 'fm': 'size ( ) { return this . cells . size ( ) ; }\\n',\n",
      " 'raw_input': '<s>generate assertion: size ( ) { return this. cells. size ( ) '\n",
      "              '; }\\n'\n",
      "              '</s>numberedRgroupSymbol ( ) { org. openscience. cdk. renderer. '\n",
      "              'generators. standard. AtomSymbol atomSymbol = atomGenerator. '\n",
      "              'generatePseudoSymbol ( \"R1\", HydrogenPosition. Right ) ; java. '\n",
      "              'util. List < java. awt. Shape > shapes = atomSymbol. '\n",
      "              'getOutlines ( ) ; \"<AssertPlaceHolder>\" ; } </s>',\n",
      " 'raw_outputs': ['org.junit.Assert.assertThat(shapes.size(),org.hamcrest.CoreMatchers.is(2))',\n",
      "                 'org.junit.Assert.assertThat(shapes.size(),org.hamcrest.CoreMatchers.is(1))',\n",
      "                 'org.junit.Assert.assertThat(shapes.size(),org.hamcrest.CoreMatchers.is(3))',\n",
      "                 'org.junit.Assert.assertThat(shapes.size(),org.hamcrest.CoreMatchers.is(4))',\n",
      "                 'org.junit.Assert.assertThat(shapes.size(),org.hamcrest.CoreMatchers.is(0))',\n",
      "                 'org.junit.Assert.assertEquals(1,shapes.size())',\n",
      "                 'org.junit.Assert.assertThat(shapes.size(),org.hamcrest.CoreMatchers.is(5))',\n",
      "                 'org.junit.Assert.assertEquals(2,shapes.size())',\n",
      "                 'org.junit.Assert.assertEquals(3,shapes.size())',\n",
      "                 'org.junit.Assert.assertThat(shapes.size(),org.hamcrest.CoreMatchers.is(6))'],\n",
      " 'test_prefix': 'numberedRgroupSymbol ( ) { org . openscience . cdk . renderer '\n",
      "                '. generators . standard . AtomSymbol atomSymbol = '\n",
      "                'atomGenerator . generatePseudoSymbol ( \"R1\" , '\n",
      "                'HydrogenPosition . Right ) ; java . util . List < java . awt '\n",
      "                '. Shape > shapes = atomSymbol . getOutlines ( ) ; '\n",
      "                '\"<AssertPlaceHolder>\" ; } '}\n"
     ]
    }
   ],
   "source": [
    "pp(data[7])"
   ]
  },
  {
   "cell_type": "code",
   "execution_count": 20,
   "metadata": {},
   "outputs": [
    {
     "name": "stdout",
     "output_type": "stream",
     "text": [
      "True\n",
      "False\n",
      "False\n",
      "False\n",
      "False\n",
      "False\n",
      "False\n",
      "False\n",
      "False\n",
      "False\n"
     ]
    }
   ],
   "source": [
    "d = data[7]\n",
    "for idx, pred in enumerate(d['raw_outputs']):\n",
    "    print(exact_match(d['assertion'], pred))"
   ]
  },
  {
   "cell_type": "code",
   "execution_count": 21,
   "metadata": {},
   "outputs": [],
   "source": [
    "# todo\n",
    "def rank(oracle_a, oracle_b):\n",
    "    return True"
   ]
  },
  {
   "attachments": {},
   "cell_type": "markdown",
   "metadata": {},
   "source": [
    "可能的策略\n",
    "1.  information retrieval\n",
    "    1.  比如呢, 可以去看看training dataset里面有没有和它很接近的, 然后看看它的assertion是什么 \n",
    "    2.  在候选里面, 挑和它长得像的 \n",
    "2.  global dictionary \n",
    "    1.  在training dataset里, 找到所有assertion的变量名, 建一个 \n",
    "    2.  比如 assertEquals(a,1) 看起来比 assertEquals(a,12321) 更可能是对的\n",
    "3.  写一些规则, 筛选一些看起来就不太对的 \n",
    "4.  离得近的变量更可能是正确的候选 \n"
   ]
  },
  {
   "attachments": {},
   "cell_type": "markdown",
   "metadata": {},
   "source": [
    "ChatGPT:\n",
    "\n",
    "如果您已经生成了10个Java assertion语句，但是想要优化它们的顺序以获得更好的效果，那么您可以考虑以下几种方式：\n",
    "\n",
    "根据业务需求排序：如果这些assertion是为了测试某个功能或业务场景的正确性，您可以根据业务需求对这些assertion进行排序。这样可以确保测试用例中的assertion按照业务流程进行测试，从而更好地捕捉潜在的错误。\n",
    "\n",
    "根据代码覆盖率排序：另一种排序方式是按照代码覆盖率对assertion进行排序。如果您的测试用例是为了增加代码覆盖率而设计的，那么您可以使用代码覆盖率工具（如JaCoCo）来检测每个assertion覆盖了多少代码，并按照覆盖率进行排序。\n",
    "\n",
    "使用启发式算法排序：如果您有很多assertion需要排序，可以考虑使用启发式算法（如遗传算法、模拟退火算法等）来优化排序。这些算法可以自动搜索和优化排序，以便最大化测试用例的覆盖率和效率。\n",
    "\n",
    "基于经验排序：最后，您可以使用基于经验的排序方法，如根据过去的测试经验或者代码分析经验进行排序。这种方法需要在不同的测试用例中尝试和优化排序，从而逐渐积累更多的经验和知识。"
   ]
  },
  {
   "cell_type": "markdown",
   "metadata": {},
   "source": []
  }
 ],
 "metadata": {
  "kernelspec": {
   "display_name": "base",
   "language": "python",
   "name": "python3"
  },
  "language_info": {
   "codemirror_mode": {
    "name": "ipython",
    "version": 3
   },
   "file_extension": ".py",
   "mimetype": "text/x-python",
   "name": "python",
   "nbconvert_exporter": "python",
   "pygments_lexer": "ipython3",
   "version": "3.9.15"
  },
  "orig_nbformat": 4,
  "vscode": {
   "interpreter": {
    "hash": "b99cb31902f7ffa146c5508831dd7b616a01badb29c4644a7bd66df13ee70aed"
   }
  }
 },
 "nbformat": 4,
 "nbformat_minor": 2
}
